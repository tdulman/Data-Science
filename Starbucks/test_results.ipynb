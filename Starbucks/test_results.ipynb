{
 "cells": [
  {
   "cell_type": "code",
   "execution_count": null,
   "metadata": {},
   "outputs": [],
   "source": [
    "import pandas as pd\n",
    "import numpy as np\n",
    "\n",
    "def score(df, promo_pred_col = 'Promotion'):\n",
    "    n_treat       = df.loc[df[promo_pred_col] == 'Yes',:].shape[0]\n",
    "    n_control     = df.loc[df[promo_pred_col] == 'No',:].shape[0]\n",
    "    n_treat_purch = df.loc[df[promo_pred_col] == 'Yes', 'purchase'].sum()\n",
    "    n_ctrl_purch  = df.loc[df[promo_pred_col] == 'No', 'purchase'].sum()\n",
    "    irr = n_treat_purch / n_treat - n_ctrl_purch / n_control\n",
    "    nir = 10 * n_treat_purch - 0.15 * n_treat - 10 * n_ctrl_purch\n",
    "    return (irr, nir)\n",
    "    \n",
    "\n",
    "def test_results(promotion_strategy):\n",
    "    test_data = pd.read_csv('Test.csv')\n",
    "    df = test_data[['V1', 'V2', 'V3', 'V4', 'V5', 'V6', 'V7']]\n",
    "    promos = promotion_strategy(df)\n",
    "    score_df = test_data.iloc[np.where(promos == 'Yes')]    \n",
    "    irr, nir = score(score_df)\n",
    "    print(\"Nice job!  See how well your strategy worked on our test data below!\")\n",
    "    print()\n",
    "    print('Your irr with this strategy is {:0.4f}.'.format(irr))\n",
    "    print()\n",
    "    print('Your nir with this strategy is {:0.2f}.'.format(nir))\n",
    "    \n",
    "    print(\"We came up with a model with an irr of {} and an nir of {} on the test set.\\n\\n How did you do?\".format(0.0188, 189.45))\n",
    "    return irr, nir\n",
    "\n",
    "# added this function to test our irr and nlr on the validation set\n",
    "def valid_results(promotion_strategy, valid_data):\n",
    "    df = valid_data[['V1', 'V2', 'V3', 'V4', 'V5', 'V6', 'V7']]\n",
    "    promos = promotion_strategy(df)\n",
    "    score_df = valid_data.iloc[np.where(promos == 'Yes')]    \n",
    "    irr, nir = score(score_df)\n",
    "    print(\"Nice job!  See how well your strategy worked on our valid data below!\")\n",
    "    print()\n",
    "    print('Your irr with this strategy is {:0.4f}.'.format(irr))\n",
    "    print()\n",
    "    print('Your nir with this strategy is {:0.2f}.'.format(nir))\n",
    "    \n",
    "    print(\"We came up with a model with an irr of {} and an nir of {} on the test set.\\n\\n How did you do?\".format(0.0188, 189.45))\n",
    "    return irr, nir"
   ]
  }
 ],
 "metadata": {
  "kernelspec": {
   "display_name": "Python 3",
   "language": "python",
   "name": "python3"
  },
  "language_info": {
   "codemirror_mode": {
    "name": "ipython",
    "version": 3
   },
   "file_extension": ".py",
   "mimetype": "text/x-python",
   "name": "python",
   "nbconvert_exporter": "python",
   "pygments_lexer": "ipython3",
   "version": "3.6.10"
  }
 },
 "nbformat": 4,
 "nbformat_minor": 4
}
